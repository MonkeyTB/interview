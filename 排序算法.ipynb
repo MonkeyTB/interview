{
 "cells": [
  {
   "cell_type": "markdown",
   "metadata": {},
   "source": [
    "# 冒泡排序\n",
    "+ 冒泡排序（Bubble Sort）也是一种简单直观的排序算法。它重复地走访过要排序的数列，一次比较两个元素，如果他们的顺序错误就把他们交换过来。走访数列的工作是重复地进行直到没有再需要交换，也就是说该数列已经排序完成。这个算法的名字由来是因为越小的元素会经由交换慢慢“浮”到数列的顶端。\n",
    "\n",
    "+ 冒泡排序还有一种优化算法，就是立一个 flag，当在一趟序列遍历中元素没有发生交换，则证明该序列已经有序。但这种改进对于提升性能来说并没有什么太大作用。\n",
    "\n",
    "### 算法步骤\n",
    "\n",
    "+ 比较相邻的元素。如果第一个比第二个大，就交换他们两个。\n",
    "+ 对每一对相邻元素作同样的工作，从开始第一对到结尾的最后一对。这步做完后，最后的元素会是最大的数。\n",
    "+ 针对所有的元素重复以上的步骤，除了最后一个。\n",
    "+ 持续每次对越来越少的元素重复上面的步骤，直到没有任何一对数字需要比较。"
   ]
  },
  {
   "cell_type": "code",
   "execution_count": 9,
   "metadata": {},
   "outputs": [],
   "source": [
    "import time"
   ]
  },
  {
   "cell_type": "code",
   "execution_count": 1,
   "metadata": {},
   "outputs": [],
   "source": [
    "def BubbleSort(ls):\n",
    "    '''\n",
    "    :ls : 待排序数组\n",
    "    '''\n",
    "    length = len(ls)\n",
    "    if length <= 1: return ls\n",
    "    for i in range(length):\n",
    "        # 因为每次都有最大得元素到最后了，因此内层循环减去上层循环（上层循环代表了固定得个数）\n",
    "        for j in range(length-i-1): \n",
    "            if ls[j] > ls[j+1]:\n",
    "                ls[j],ls[j+1] = ls[j+1],ls[j]\n",
    "    return ls"
   ]
  },
  {
   "cell_type": "code",
   "execution_count": 12,
   "metadata": {},
   "outputs": [
    {
     "data": {
      "text/plain": [
       "[1, 2, 3, 5, 7, 8]"
      ]
     },
     "execution_count": 12,
     "metadata": {},
     "output_type": "execute_result"
    }
   ],
   "source": [
    "BubbleSort([1,3,2,7,5,8])"
   ]
  },
  {
   "cell_type": "code",
   "execution_count": 3,
   "metadata": {},
   "outputs": [],
   "source": [
    "def BubbleSortFlag(ls):\n",
    "    '''\n",
    "    :ls : 待排序数组\n",
    "    :增加 flag 优化\n",
    "    '''\n",
    "    length = len(ls)\n",
    "    if length <= 1: return ls\n",
    "    flag = False\n",
    "    for i in range(length):\n",
    "        # 因为每次都有最大得元素到最后了，因此内层循环减去上层循环（上层循环代表了固定得个数）\n",
    "        for j in range(length-i-1): \n",
    "            if ls[j] > ls[j+1]:\n",
    "                ls[j],ls[j+1] = ls[j+1],ls[j]\n",
    "                flag = True\n",
    "        if flag:\n",
    "            return ls\n",
    "    return ls"
   ]
  },
  {
   "cell_type": "code",
   "execution_count": 4,
   "metadata": {},
   "outputs": [
    {
     "data": {
      "text/plain": [
       "[1, 2, 3, 5, 7, 8]"
      ]
     },
     "execution_count": 4,
     "metadata": {},
     "output_type": "execute_result"
    }
   ],
   "source": [
    "BubbleSort([1,3,2,7,5,8])"
   ]
  },
  {
   "cell_type": "markdown",
   "metadata": {},
   "source": [
    "# 选择排序\n",
    "+ 选择排序是一种简单直观的排序算法，无论什么数据进去都是 O(n²) 的时间复杂度。所以用到它的时候，数据规模越小越好。唯一的好处可能就是不占用额外的内存空间了吧。\n",
    "\n",
    "### 算法步骤\n",
    "+ 首先在未排序序列中找到最小（大）元素，存放到排序序列的起始位置\n",
    "+ 再从剩余未排序元素中继续寻找最小（大）元素，然后放到已排序序列的末尾\n",
    "+ 重复第二步，直到所有元素均排序完毕。"
   ]
  },
  {
   "cell_type": "code",
   "execution_count": 5,
   "metadata": {},
   "outputs": [],
   "source": [
    "def SelectionSort(ls):\n",
    "    '''\n",
    "    :ls : 待排序数组\n",
    "    '''\n",
    "    length = len(ls)\n",
    "    if length <= 1:\n",
    "        return ls\n",
    "    for i in range(length):\n",
    "        for j in range(i,length):\n",
    "            # 从小到大排序 ls[i] > ls[j]\n",
    "            # 从大到小排序 ls[i] < ls[j]\n",
    "            if ls[i] > ls[j]:\n",
    "                ls[i],ls[j] = ls[j],ls[i]\n",
    "    return ls"
   ]
  },
  {
   "cell_type": "code",
   "execution_count": 6,
   "metadata": {},
   "outputs": [
    {
     "data": {
      "text/plain": [
       "[1, 2, 3, 5, 7, 8]"
      ]
     },
     "execution_count": 6,
     "metadata": {},
     "output_type": "execute_result"
    }
   ],
   "source": [
    "SelectionSort([1,3,2,7,5,8])"
   ]
  },
  {
   "cell_type": "markdown",
   "metadata": {},
   "source": [
    "# 插入排序\n",
    "+ 插入排序的代码实现虽然没有冒泡排序和选择排序那么简单粗暴，但它的原理应该是最容易理解的了，因为只要打过扑克牌的人都应该能够秒懂。插入排序是一种最简单直观的排序算法，它的工作原理是通过构建有序序列，对于未排序数据，在已排序序列中从后向前扫描，找到相应位置并插入。\n",
    "+ 插入排序和冒泡排序一样，也有一种优化算法，叫做拆半插入。\n",
    "### 算法步骤\n",
    "+ 将第一待排序序列第一个元素看做一个有序序列，把第二个元素到最后一个元素当成是未排序序列。\n",
    "+ 从头到尾依次扫描未排序序列，将扫描到的每个元素插入有序序列的适当位置。（如果待插入的元素与有序序列中的某个元素相等，则将待插入元素插入到相等元素的后面。）"
   ]
  },
  {
   "cell_type": "code",
   "execution_count": 7,
   "metadata": {},
   "outputs": [],
   "source": [
    "def InsertSort(ls):\n",
    "    '''\n",
    "    :ls : 待排序数组\n",
    "    '''\n",
    "    length = len(ls)\n",
    "    if length <= 1:\n",
    "        return ls\n",
    "    for i in range(1,length): # 从前往后扫描，i前得都是排好序的\n",
    "        target = ls[i] # 当前待排序的数字\n",
    "        j = i\n",
    "        while j>0 and target<ls[j-1]: # 从后往前扫描，找到合适的位置给target，注意扫描范围是已经排好序的，因此j是从i到0开始扫描\n",
    "            ls[j] = ls[j-1]\n",
    "            j -= 1\n",
    "        ls[j] = target\n",
    "    return ls"
   ]
  },
  {
   "cell_type": "code",
   "execution_count": 8,
   "metadata": {},
   "outputs": [
    {
     "data": {
      "text/plain": [
       "[1, 2, 3, 5, 7, 8]"
      ]
     },
     "execution_count": 8,
     "metadata": {},
     "output_type": "execute_result"
    }
   ],
   "source": [
    "InsertSort([1,3,2,7,5,8])"
   ]
  },
  {
   "cell_type": "code",
   "execution_count": null,
   "metadata": {},
   "outputs": [],
   "source": []
  }
 ],
 "metadata": {
  "kernelspec": {
   "display_name": "Python 3",
   "language": "python",
   "name": "python3"
  },
  "language_info": {
   "codemirror_mode": {
    "name": "ipython",
    "version": 3
   },
   "file_extension": ".py",
   "mimetype": "text/x-python",
   "name": "python",
   "nbconvert_exporter": "python",
   "pygments_lexer": "ipython3",
   "version": "3.6.10"
  }
 },
 "nbformat": 4,
 "nbformat_minor": 4
}
